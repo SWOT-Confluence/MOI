{
 "cells": [
  {
   "cell_type": "code",
   "execution_count": 1,
   "metadata": {},
   "outputs": [],
   "source": [
    "from IntegrateBasins import IntegrateBasins\n",
    "from pathlib import Path\n",
    "import numpy as np\n",
    "\n",
    "# Third party imports\n",
    "from netCDF4 import Dataset\n",
    "\n",
    "# datasets\n",
    "SWORD=-1 #this will be replaced by an actual read\n",
    "SoS=-1\n",
    "\n",
    "sword_dir=Path('/Users/mtd/OneDrive - The Ohio State University/Data/SWOT/SWORD/SWORD/Reaches_Nodes/netcdf')\n",
    "out_dir=Path('/Users/mtd/OneDrive - The Ohio State University/Data/SWOT/SoS/tmp')\n",
    "\n",
    "# estimates of discharge timeseries and flow law parameters from the reach-level algorithms\n",
    "Stage1Estimates={\n",
    "        \"FLP\":-1,\n",
    "        \"Q\":-1}\n",
    "\n",
    "# run-time parameters. these would be read from text file\n",
    "MOIparams = { \n",
    "        \"fUncGage\":0.05 #fractional uncertainty for a gage\n",
    "            }"
   ]
  },
  {
   "cell_type": "code",
   "execution_count": 2,
   "metadata": {},
   "outputs": [
    {
     "ename": "NameError",
     "evalue": "name 'reach_FLPvarF' is not defined",
     "output_type": "error",
     "traceback": [
      "\u001b[0;31m---------------------------------------------------------------------------\u001b[0m",
      "\u001b[0;31mNameError\u001b[0m                                 Traceback (most recent call last)",
      "\u001b[0;32m<ipython-input-2-539ede63b7cd>\u001b[0m in \u001b[0;36m<module>\u001b[0;34m\u001b[0m\n\u001b[1;32m      1\u001b[0m \u001b[0mIntegrator\u001b[0m\u001b[0;34m=\u001b[0m\u001b[0mIntegrateBasins\u001b[0m\u001b[0;34m(\u001b[0m\u001b[0msword_dir\u001b[0m\u001b[0;34m,\u001b[0m\u001b[0mout_dir\u001b[0m\u001b[0;34m,\u001b[0m\u001b[0mMOIparams\u001b[0m\u001b[0;34m,\u001b[0m\u001b[0mStage1Estimates\u001b[0m\u001b[0;34m)\u001b[0m\u001b[0;34m\u001b[0m\u001b[0;34m\u001b[0m\u001b[0m\n\u001b[1;32m      2\u001b[0m \u001b[0;34m\u001b[0m\u001b[0m\n\u001b[0;32m----> 3\u001b[0;31m \u001b[0mIntegrator\u001b[0m\u001b[0;34m.\u001b[0m\u001b[0mIntegrate\u001b[0m\u001b[0;34m(\u001b[0m\u001b[0;34m)\u001b[0m\u001b[0;34m\u001b[0m\u001b[0;34m\u001b[0m\u001b[0m\n\u001b[0m",
      "\u001b[0;32m~/GitHub/MOI/IntegrateBasins.py\u001b[0m in \u001b[0;36mIntegrate\u001b[0;34m(self)\u001b[0m\n\u001b[1;32m     51\u001b[0m                 \u001b[0mout\u001b[0m\u001b[0;34m.\u001b[0m\u001b[0mName\u001b[0m \u001b[0;34m=\u001b[0m \u001b[0msword\u001b[0m\u001b[0;34m.\u001b[0m\u001b[0mName\u001b[0m\u001b[0;34m\u001b[0m\u001b[0;34m\u001b[0m\u001b[0m\n\u001b[1;32m     52\u001b[0m                 \u001b[0mout\u001b[0m\u001b[0;34m.\u001b[0m\u001b[0mproduction_date\u001b[0m \u001b[0;34m=\u001b[0m \u001b[0mdatetime\u001b[0m\u001b[0;34m.\u001b[0m\u001b[0mnow\u001b[0m\u001b[0;34m(\u001b[0m\u001b[0;34m)\u001b[0m\u001b[0;34m.\u001b[0m\u001b[0mstrftime\u001b[0m\u001b[0;34m(\u001b[0m\u001b[0;34m'%d-%b-%Y %H:%M:%S'\u001b[0m\u001b[0;34m)\u001b[0m\u001b[0;34m\u001b[0m\u001b[0;34m\u001b[0m\u001b[0m\n\u001b[0;32m---> 53\u001b[0;31m                 \u001b[0mself\u001b[0m\u001b[0;34m.\u001b[0m\u001b[0mwrite_reaches\u001b[0m\u001b[0;34m(\u001b[0m\u001b[0msword\u001b[0m\u001b[0;34m,\u001b[0m \u001b[0mout\u001b[0m\u001b[0;34m,\u001b[0m\u001b[0mStage2Estimates\u001b[0m\u001b[0;34m)\u001b[0m\u001b[0;34m\u001b[0m\u001b[0;34m\u001b[0m\u001b[0m\n\u001b[0m\u001b[1;32m     54\u001b[0m \u001b[0;34m\u001b[0m\u001b[0m\n\u001b[1;32m     55\u001b[0m                 \u001b[0msword\u001b[0m\u001b[0;34m.\u001b[0m\u001b[0mclose\u001b[0m\u001b[0;34m(\u001b[0m\u001b[0;34m)\u001b[0m\u001b[0;34m\u001b[0m\u001b[0;34m\u001b[0m\u001b[0m\n",
      "\u001b[0;32m~/GitHub/MOI/IntegrateBasins.py\u001b[0m in \u001b[0;36mwrite_reaches\u001b[0;34m(self, sword, out, Stage2Estimates)\u001b[0m\n\u001b[1;32m     80\u001b[0m         reach_FLPvar = out_reach.createVariable(\"FLP\", \"f4\", (\"num_flps\",\"num_reaches\"),\n\u001b[1;32m     81\u001b[0m             fill_value=self.FILL_VALUE)\n\u001b[0;32m---> 82\u001b[0;31m         \u001b[0mreach_FLPvarF\u001b[0m\u001b[0;34m[\u001b[0m\u001b[0;34m:\u001b[0m\u001b[0;34m]\u001b[0m \u001b[0;34m=\u001b[0m \u001b[0mStage2Estimates\u001b[0m\u001b[0;34m[\u001b[0m\u001b[0;34m\"FLP\"\u001b[0m\u001b[0;34m]\u001b[0m\u001b[0;34m[\u001b[0m\u001b[0;34m:\u001b[0m\u001b[0;34m]\u001b[0m\u001b[0;34m\u001b[0m\u001b[0;34m\u001b[0m\u001b[0m\n\u001b[0m\u001b[1;32m     83\u001b[0m \u001b[0;34m\u001b[0m\u001b[0m\n\u001b[1;32m     84\u001b[0m \u001b[0;34m\u001b[0m\u001b[0m\n",
      "\u001b[0;31mNameError\u001b[0m: name 'reach_FLPvarF' is not defined"
     ]
    }
   ],
   "source": [
    "Integrator=IntegrateBasins(sword_dir,out_dir,MOIparams,Stage1Estimates)\n",
    "\n",
    "Integrator.Integrate()"
   ]
  }
 ],
 "metadata": {
  "kernelspec": {
   "display_name": "Python 3",
   "language": "python",
   "name": "python3"
  },
  "language_info": {
   "codemirror_mode": {
    "name": "ipython",
    "version": 3
   },
   "file_extension": ".py",
   "mimetype": "text/x-python",
   "name": "python",
   "nbconvert_exporter": "python",
   "pygments_lexer": "ipython3",
   "version": "3.8.3"
  }
 },
 "nbformat": 4,
 "nbformat_minor": 4
}
