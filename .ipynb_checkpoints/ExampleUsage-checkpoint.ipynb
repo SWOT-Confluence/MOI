{
 "cells": [
  {
   "cell_type": "code",
   "execution_count": 1,
   "metadata": {},
   "outputs": [],
   "source": [
    "from IntegrateBasins import IntegrateBasins\n",
    "from pathlib import Path\n",
    "import numpy as np\n",
    "\n",
    "# Third party imports\n",
    "from netCDF4 import Dataset\n",
    "\n",
    "# datasets\n",
    "SWORD=-1 #this will be replaced by an actual read\n",
    "SoS=-1\n",
    "\n",
    "sword_dir=Path('/Users/mtd/OneDrive - The Ohio State University/Data/SWOT/SWORD/SWORD/Reaches_Nodes/netcdf')\n",
    "out_dir=Path('/Users/mtd/OneDrive - The Ohio State University/Data/SWOT/SoS/tmp')\n",
    "\n",
    "# estimates of discharge timeseries and flow law parameters from the reach-level algorithms\n",
    "Stage1Estimates={\n",
    "        \"FLP\":-1,\n",
    "        \"Q\":-1}\n",
    "\n",
    "# run-time parameters. these would be read from text file\n",
    "MOIparams = { \n",
    "        \"fUncGage\":0.05 #fractional uncertainty for a gage\n",
    "            }"
   ]
  },
  {
   "cell_type": "code",
   "execution_count": 2,
   "metadata": {},
   "outputs": [],
   "source": [
    "Integrator=IntegrateBasins(sword_dir,out_dir,MOIparams,Stage1Estimates)\n",
    "\n",
    "Integrator.Integrate()"
   ]
  },
  {
   "cell_type": "code",
   "execution_count": null,
   "metadata": {},
   "outputs": [],
   "source": []
  }
 ],
 "metadata": {
  "kernelspec": {
   "display_name": "Python 3",
   "language": "python",
   "name": "python3"
  },
  "language_info": {
   "codemirror_mode": {
    "name": "ipython",
    "version": 3
   },
   "file_extension": ".py",
   "mimetype": "text/x-python",
   "name": "python",
   "nbconvert_exporter": "python",
   "pygments_lexer": "ipython3",
   "version": "3.8.3"
  }
 },
 "nbformat": 4,
 "nbformat_minor": 4
}
